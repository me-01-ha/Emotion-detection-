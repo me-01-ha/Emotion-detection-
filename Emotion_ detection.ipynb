{
 "cells": [
  {
   "cell_type": "markdown",
   "id": "571d77ee-82d3-4bea-905a-883f57a45420",
   "metadata": {},
   "source": [
    "# Import Libraries"
   ]
  },
  {
   "cell_type": "code",
   "execution_count": 2,
   "id": "f8073c30-5452-4c77-a956-a15e4716abe9",
   "metadata": {},
   "outputs": [],
   "source": [
    " #pip install face_recognition"
   ]
  },
  {
   "cell_type": "code",
   "execution_count": 3,
   "id": "4e9b464a-66dd-47c6-b8e5-6aa4aa3e9eb5",
   "metadata": {},
   "outputs": [],
   "source": [
    "#pip install deepface"
   ]
  },
  {
   "cell_type": "code",
   "execution_count": 4,
   "id": "0d147518-3d58-4c2f-913e-1b7ca93083d2",
   "metadata": {},
   "outputs": [],
   "source": [
    "# !pip install opencv-python\n",
    "# !pip install keras\n",
    "# !pip install tensorflow"
   ]
  },
  {
   "cell_type": "code",
   "execution_count": 5,
   "id": "33ccf8c7-0ab3-4232-960e-918a97298e17",
   "metadata": {},
   "outputs": [],
   "source": [
    "#pip install tf-keras"
   ]
  },
  {
   "cell_type": "code",
   "execution_count": 1,
   "id": "6c4c8cb6-76e6-4e4b-aa1d-a72f6ef9edb4",
   "metadata": {},
   "outputs": [],
   "source": [
    "import cv2\n",
    "import numpy as np"
   ]
  },
  {
   "cell_type": "markdown",
   "id": "d8da580f-96d1-4a05-b266-c66ad7482cd7",
   "metadata": {},
   "source": [
    "# Import Face detection xml file"
   ]
  },
  {
   "cell_type": "code",
   "execution_count": 3,
   "id": "88eb530d-67ab-46b4-9e03-db73f82ae96a",
   "metadata": {},
   "outputs": [],
   "source": [
    "face_cascade_path = r\"C:\\Users\\user1\\Downloads\\Downloads\\haarcascade_frontalface_default.xml\"\n",
    "face_cascade = cv2.CascadeClassifier(face_cascade_path)"
   ]
  },
  {
   "cell_type": "markdown",
   "id": "38b59b7a-5234-4bc6-bd7d-c192a4840ae7",
   "metadata": {},
   "source": [
    "# IMPORT DEEPFACE"
   ]
  },
  {
   "cell_type": "code",
   "execution_count": 10,
   "id": "b8b582ee-9803-49b6-9d14-db3bb71fd218",
   "metadata": {},
   "outputs": [],
   "source": [
    "# !pip install deepface"
   ]
  },
  {
   "cell_type": "code",
   "execution_count": 5,
   "id": "61eaad1c-bc99-41cc-8d57-d75a1a604591",
   "metadata": {},
   "outputs": [
    {
     "name": "stdout",
     "output_type": "stream",
     "text": [
      "WARNING:tensorflow:From C:\\Users\\user1\\anaconda3\\Lib\\site-packages\\tf_keras\\src\\losses.py:2976: The name tf.losses.sparse_softmax_cross_entropy is deprecated. Please use tf.compat.v1.losses.sparse_softmax_cross_entropy instead.\n",
      "\n"
     ]
    }
   ],
   "source": [
    "from deepface import DeepFace"
   ]
  },
  {
   "cell_type": "code",
   "execution_count": 7,
   "id": "dcff4b37-f18a-4f96-8d5e-8d0f51e8992d",
   "metadata": {},
   "outputs": [],
   "source": [
    "# Load Face Cascade classifier\n",
    "face_cascade = cv2.CascadeClassifier(cv2.data.haarcascades +  'haarcascade_frontalface_default.xml')"
   ]
  },
  {
   "cell_type": "code",
   "execution_count": 9,
   "id": "4748b1fa-211f-44d2-9f73-7e14fefa98c6",
   "metadata": {},
   "outputs": [
    {
     "name": "stdout",
     "output_type": "stream",
     "text": [
      "25-01-31 13:33:04 - facial_expression_model_weights.h5 will be downloaded...\n"
     ]
    },
    {
     "name": "stderr",
     "output_type": "stream",
     "text": [
      "Downloading...\n",
      "From: https://github.com/serengil/deepface_models/releases/download/v1.0/facial_expression_model_weights.h5\n",
      "To: C:\\Users\\user1\\.deepface\\weights\\facial_expression_model_weights.h5\n",
      "100%|█████████████████████████████████████████████████████████████████████████████| 5.98M/5.98M [00:02<00:00, 2.30MB/s]\n"
     ]
    }
   ],
   "source": [
    "import cv2\n",
    "from deepface import DeepFace\n",
    "\n",
    "face_cascade = cv2.CascadeClassifier(cv2.data.haarcascades + 'haarcascade_frontalface_default.xml' )\n",
    "cap = cv2.VideoCapture(0)\n",
    "while True:\n",
    "    ret,frame = cap.read()\n",
    "    if not ret:\n",
    "        break\n",
    "    gray_frame = cv2.cvtColor(frame,cv2.COLOR_BGR2GRAY)\n",
    "    rgb_frame = cv2.cvtColor(gray_frame,cv2.COLOR_GRAY2RGB)\n",
    "    faces = face_cascade.detectMultiScale(gray_frame, scaleFactor=1.1, minNeighbors=5, minSize=(30,30))\n",
    "    for (x, y, w, h) in faces:\n",
    "        face_roi = rgb_frame[y:y + h, x:x + w]\n",
    "        result = DeepFace.analyze(face_roi, actions=['emotion'], enforce_detection=False)\n",
    "        \n",
    "        emotion = result[0]['dominant_emotion']\n",
    "        \n",
    "        cv2.rectangle(frame, (x,y), (x+ w,y + h), (0, 0, 225), 2)\n",
    "        cv2.putText(frame, emotion, (x,y - 10), cv2.FONT_HERSHEY_SIMPLEX, 0.9, (0,0, 225), 2)\n",
    "        \n",
    "    cv2.imshow('Emotion Detection from Video', frame)\n",
    "    \n",
    "    if cv2.waitKey(1) & 0xFF == ord('q'):\n",
    "        break\n",
    "# Release the capture and close all windows\n",
    "cap.release()\n",
    "cv2.destroyAllWindows()\n"
   ]
  },
  {
   "cell_type": "code",
   "execution_count": 21,
   "id": "128a6b78-d519-4c41-a405-55d9a90c53b1",
   "metadata": {},
   "outputs": [],
   "source": [
    "# Another code(error)\n",
    "\n",
    "\n",
    "# import cv2\n",
    "# import numpy as np\n",
    "# from tensorflow.keras.models import load_model\n",
    "\n",
    "# # Emotion labels\n",
    "# # emotion_labels = ['Angry', 'Disgust', 'Fear', 'Happy', 'Sad', 'Surprise', 'Neutral']\n",
    "\n",
    "# # Initialize Haarcascade for face detection\n",
    "# face_cascade = cv2.CascadeClassifier(cv2.data.haarcascades + 'haarcascade_frontalface_default.xml')\n",
    "\n",
    "# # Load the video file\n",
    "# vid = cv2.VideoCapture(0)\n",
    "\n",
    "# while True:\n",
    "#     # Read a frame from the video\n",
    "#     success, frame = vid.read()\n",
    "\n",
    "# # Start video capture\n",
    "# video_capture = cv2.VideoCapture(0)\n",
    "\n",
    "#     # Break the loop if the video ends\n",
    "#     if not success:\n",
    "#         break\n",
    "\n",
    "# print(\"Press 'q' to exit the application.\")\n",
    "\n",
    "# while True:\n",
    "#     ret, frame = video_capture.read()\n",
    "#     if not ret:\n",
    "#         break\n",
    "\n",
    "#     # Convert frame to grayscale (required for Haarcascade)\n",
    "#     gray_frame = cv2.cvtColor(frame, cv2.COLOR_BGR2GRAY)\n",
    "\n",
    "#     # Detect faces\n",
    "#     faces = face_cascade.detectMultiScale(gray_frame, scaleFactor=1.3, minNeighbors=5)\n",
    "\n",
    "#     for (x, y, w, h) in faces:\n",
    "#         # Extract face ROI\n",
    "#         roi_gray = gray_frame[y:y + h, x:x + w]\n",
    "#         roi_gray = cv2.resize(roi_gray, (48, 48))\n",
    "#         roi_gray = roi_gray / 255.0  # Normalize\n",
    "#         roi_gray = np.expand_dims(roi_gray, axis=0)\n",
    "#         roi_gray = np.expand_dims(roi_gray, axis=-1)\n",
    "\n",
    "#         # Predict emotion\n",
    "#         predictions = model.predict(roi_gray)\n",
    "#         emotion_index = np.argmax(predictions)\n",
    "#         emotion = emotion_labels[emotion_index]\n",
    "\n",
    "#         # Draw rectangle around the face\n",
    "#         cv2.rectangle(frame, (x, y), (x + w, y + h), (0, 255, 0), 2)\n",
    "#         cv2.putText(frame, emotion, (x, y - 10), cv2.FONT_HERSHEY_SIMPLEX, 0.9, (255, 255, 255), 2)\n",
    "\n",
    "#     # Display the video feed with detections\n",
    "#     cv2.imshow('Emotion Detection', frame)\n",
    "\n",
    "#     # Press 'q' to quit\n",
    "#     if cv2.waitKey(1) & 0xFF == ord('q'):\n",
    "#         break\n",
    "\n",
    "# # Release video capture and close windows\n",
    "# video_capture.release()\n",
    "# cv2.destroyAllWindows()"
   ]
  },
  {
   "cell_type": "code",
   "execution_count": null,
   "id": "5ffe19a1-41c8-41eb-aec6-ceb43369f1bd",
   "metadata": {},
   "outputs": [],
   "source": []
  }
 ],
 "metadata": {
  "kernelspec": {
   "display_name": "Python 3 (ipykernel)",
   "language": "python",
   "name": "python3"
  },
  "language_info": {
   "codemirror_mode": {
    "name": "ipython",
    "version": 3
   },
   "file_extension": ".py",
   "mimetype": "text/x-python",
   "name": "python",
   "nbconvert_exporter": "python",
   "pygments_lexer": "ipython3",
   "version": "3.12.4"
  }
 },
 "nbformat": 4,
 "nbformat_minor": 5
}
